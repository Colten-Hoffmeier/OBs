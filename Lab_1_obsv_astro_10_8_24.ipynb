{
 "cells": [
  {
   "cell_type": "code",
   "execution_count": 45,
   "id": "af051208-0fe3-459d-8201-90193036be2a",
   "metadata": {},
   "outputs": [
    {
     "name": "stdout",
     "output_type": "stream",
     "text": [
      "2442.4\n"
     ]
    }
   ],
   "source": [
    "import numpy as np\n",
    "import matplotlib.pyplot as plt\n",
    "from astropy.io import fits\n",
    "import glob as g\n",
    "\n",
    "#create bias array\n",
    "bias = sorted(g.glob('../Colten/Documents/Obsv_Astro/CHJ_bias_images/*.fit'))\n",
    "bias_uncorrected = np.zeros([len(bias), 3522, 4656])\n",
    "bias_header = []\n",
    "for i in range(len(bias)):\n",
    "    foo = fits.open(bias[i])\n",
    "    bias_uncorrected[i,:,:] = foo[0].data\n",
    "    bias_header.append(foo[0].header)\n",
    "    foo.close()\n",
    "#calculate mean and median of bias\n",
    "bias_mean = np.mean(bias_uncorrected, axis=0)\n",
    "bias_median = np.median(bias_mean)\n",
    "print(bias_median)\n",
    "#bias_median = 2442.4 counts"
   ]
  },
  {
   "cell_type": "code",
   "execution_count": 47,
   "id": "93440ef2-1923-456b-90ab-acc338a3a6c4",
   "metadata": {},
   "outputs": [
    {
     "name": "stdout",
     "output_type": "stream",
     "text": [
      "2457.6\n"
     ]
    }
   ],
   "source": [
    "#load dark images\n",
    "dark = sorted(g.glob('../Colten/Documents/Obsv_Astro/dark_images/*.fit'))\n",
    "dark_array = np.zeros([len(dark),3522, 4656])\n",
    "dark_header = []\n",
    "#loop through the files, store their values in array 'dark_array'\n",
    "#then calculate the mean and median of the 'dark_array'\n",
    "for i in range(len(dark)):\n",
    "    dark_foo = fits.open(dark[i])\n",
    "    dark_array[i,:,:] = dark_foo[0].data\n",
    "    dark_header.append(dark_foo[0].header)\n",
    "    dark_foo.close()\n",
    "dark_mean = np.mean(dark_array, axis=0)\n",
    "dark_median = np.median(dark_mean)\n",
    "print(dark_median)\n",
    "\n"
   ]
  },
  {
   "cell_type": "code",
   "execution_count": null,
   "id": "4fb8b0d5-c23e-44f5-a467-a8136864765e",
   "metadata": {},
   "outputs": [],
   "source": []
  }
 ],
 "metadata": {
  "kernelspec": {
   "display_name": "Python 3 (ipykernel)",
   "language": "python",
   "name": "python3"
  },
  "language_info": {
   "codemirror_mode": {
    "name": "ipython",
    "version": 3
   },
   "file_extension": ".py",
   "mimetype": "text/x-python",
   "name": "python",
   "nbconvert_exporter": "python",
   "pygments_lexer": "ipython3",
   "version": "3.11.7"
  }
 },
 "nbformat": 4,
 "nbformat_minor": 5
}
